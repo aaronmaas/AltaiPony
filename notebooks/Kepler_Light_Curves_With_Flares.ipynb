{
 "cells": [
  {
   "cell_type": "code",
   "execution_count": 1,
   "metadata": {},
   "outputs": [
    {
     "name": "stderr",
     "output_type": "stream",
     "text": [
      "/usr/lib/python3.6/importlib/_bootstrap.py:219: RuntimeWarning: numpy.ufunc size changed, may indicate binary incompatibility. Expected 192 from C header, got 216 from PyObject\n",
      "  return f(*args, **kwds)\n",
      "/usr/lib/python3.6/importlib/_bootstrap.py:219: RuntimeWarning: numpy.ufunc size changed, may indicate binary incompatibility. Expected 192 from C header, got 216 from PyObject\n",
      "  return f(*args, **kwds)\n"
     ]
    }
   ],
   "source": [
    "from altaipony.lcio import from_mast, from_path\n",
    "import numpy as np\n",
    "import matplotlib.pyplot as plt"
   ]
  },
  {
   "cell_type": "markdown",
   "metadata": {},
   "source": [
    "Find and download the TargetPixelFile for your light curve:"
   ]
  },
  {
   "cell_type": "code",
   "execution_count": 2,
   "metadata": {},
   "outputs": [
    {
     "name": "stderr",
     "output_type": "stream",
     "text": [
      "Loading KWallet\n",
      "Loading SecretService\n",
      "Loading Windows\n",
      "Loading chainer\n",
      "Loading macOS\n",
      "/usr/lib/python3.6/importlib/_bootstrap_external.py:487: ResourceWarning: unclosed <socket.socket fd=58, family=AddressFamily.AF_UNIX, type=SocketKind.SOCK_STREAM, proto=0, raddr=/run/user/1000/bus>\n",
      "  code = marshal.loads(data)\n",
      "/usr/lib/python3.6/importlib/_bootstrap_external.py:487: ResourceWarning: unclosed <socket.socket fd=59, family=AddressFamily.AF_UNIX, type=SocketKind.SOCK_STREAM, proto=0, raddr=/run/user/1000/bus>\n",
      "  code = marshal.loads(data)\n",
      "/usr/lib/python3.6/importlib/_bootstrap_external.py:487: ResourceWarning: unclosed <socket.socket fd=60, family=AddressFamily.AF_UNIX, type=SocketKind.SOCK_STREAM, proto=0, raddr=/run/user/1000/bus>\n",
      "  code = marshal.loads(data)\n",
      "/usr/lib/python3.6/importlib/_bootstrap_external.py:487: ResourceWarning: unclosed <socket.socket fd=61, family=AddressFamily.AF_UNIX, type=SocketKind.SOCK_STREAM, proto=0, raddr=/run/user/1000/bus>\n",
      "  code = marshal.loads(data)\n",
      "Found cached file /home/ekaterina/.lightkurve-cache/mastDownload/Kepler/kplr010002792_lc_Q011111111111111111/kplr010002792-2009259160929_llc.fits with expected size 466560.\n",
      "6% (279/4354) of the cadences will be ignored due to the quality mask (quality_bitmask=1130799).\n",
      "6% (279/4354) of the cadences will be ignored due to the quality mask (quality_bitmask=1130799).\n"
     ]
    }
   ],
   "source": [
    "flc = from_mast(\"10002792\", mode=\"TPF\", c=2, mission=\"Kepler\")"
   ]
  },
  {
   "cell_type": "markdown",
   "metadata": {},
   "source": [
    "Find the gaps in the light curve to inform the de-trending algorithm. \n",
    "\n",
    "The de-trending splits the light curve in continuous chunks to avoid flukes from over-fitting."
   ]
  },
  {
   "cell_type": "code",
   "execution_count": 3,
   "metadata": {},
   "outputs": [],
   "source": [
    "flcd = flc.detrend(\"savgol\")"
   ]
  },
  {
   "cell_type": "markdown",
   "metadata": {},
   "source": [
    "Now you can visually compare the results:"
   ]
  },
  {
   "cell_type": "code",
   "execution_count": 6,
   "metadata": {
    "scrolled": false
   },
   "outputs": [
    {
     "data": {
      "image/png": "[encoded data removed]",
      "text/plain": [
       "<Figure size 864x360 with 1 Axes>"
      ]
     },
     "metadata": {
      "needs_background": "light"
     },
     "output_type": "display_data"
    }
   ],
   "source": [
    "plt.figure(figsize=(12,5))\n",
    "\n",
    "plt.plot(flcd.time,flcd.detrended_flux / np.nanmedian(flcd.detrended_flux))\n",
    "plt.plot(flcd.time, flcd.flux / np.nanmedian(flcd.flux)+0.05)\n",
    "plt.xlim(248,250);"
   ]
  },
  {
   "cell_type": "markdown",
   "metadata": {},
   "source": [
    "The above figure shows a flare that we can now try to find in the de-trended light curve:"
   ]
  },
  {
   "cell_type": "code",
   "execution_count": 5,
   "metadata": {},
   "outputs": [
    {
     "name": "stderr",
     "output_type": "stream",
     "text": [
      "Found 0 candidate(s) in the (0,570) gap.\n",
      "Found 0 candidate(s) in the (570,2495) gap.\n",
      "Found 0 candidate(s) in the (2495,2807) gap.\n",
      "Found 1 candidate(s) in the (2807,3967) gap.\n",
      "Found 0 candidate(s) in the (3967,4070) gap.\n",
      "/home/ekaterina/Documents/001_Science/AltaiPony/appaloosa_for_tess/lib/python3.6/site-packages/pandas-0.25.1-py3.6-linux-x86_64.egg/pandas/core/frame.py:7123: FutureWarning: Sorting because non-concatenation axis is not aligned. A future version\n",
      "of pandas will change to not sort by default.\n",
      "\n",
      "To accept the future behavior, pass 'sort=False'.\n",
      "\n",
      "To retain the current behavior and silence the warning, pass 'sort=True'.\n",
      "\n",
      "  sort=sort,\n"
     ]
    },
    {
     "data": {
      "text/html": [
       "<div>\n",
       "<style scoped>\n",
       "    .dataframe tbody tr th:only-of-type {\n",
       "        vertical-align: middle;\n",
       "    }\n",
       "\n",
       "    .dataframe tbody tr th {\n",
       "        vertical-align: top;\n",
       "    }\n",
       "\n",
       "    .dataframe thead th {\n",
       "        text-align: right;\n",
       "    }\n",
       "</style>\n",
       "<table border=\"1\" class=\"dataframe\">\n",
       "  <thead>\n",
       "    <tr style=\"text-align: right;\">\n",
       "      <th></th>\n",
       "      <th>ampl_rec</th>\n",
       "      <th>cstart</th>\n",
       "      <th>cstop</th>\n",
       "      <th>ed_rec</th>\n",
       "      <th>ed_rec_err</th>\n",
       "      <th>istart</th>\n",
       "      <th>istop</th>\n",
       "      <th>tstart</th>\n",
       "      <th>tstop</th>\n",
       "    </tr>\n",
       "  </thead>\n",
       "  <tbody>\n",
       "    <tr>\n",
       "      <td>0</td>\n",
       "      <td>0.071384</td>\n",
       "      <td>6878</td>\n",
       "      <td>6889</td>\n",
       "      <td>359.091046</td>\n",
       "      <td>0.399981</td>\n",
       "      <td>3679</td>\n",
       "      <td>3690</td>\n",
       "      <td>249.476678</td>\n",
       "      <td>249.701442</td>\n",
       "    </tr>\n",
       "  </tbody>\n",
       "</table>\n",
       "</div>"
      ],
      "text/plain": [
       "   ampl_rec cstart cstop      ed_rec  ed_rec_err istart istop      tstart  \\\n",
       "0  0.071384   6878  6889  359.091046    0.399981   3679  3690  249.476678   \n",
       "\n",
       "        tstop  \n",
       "0  249.701442  "
      ]
     },
     "execution_count": 5,
     "metadata": {},
     "output_type": "execute_result"
    }
   ],
   "source": [
    "flcd = flcd.find_flares()\n",
    "flcd.flares.sort_values(by=\"ed_rec\", ascending=False)"
   ]
  },
  {
   "cell_type": "markdown",
   "metadata": {},
   "source": [
    "How likely are such flares recovered, what is their true energy prior to noise and de-trending systematics? \n",
    "\n",
    "-> Check out `TESS_Light_Curves_with_Flares.ipynb`."
   ]
  },
  {
   "cell_type": "markdown",
   "metadata": {},
   "source": [
    "\n",
    "\n",
    "Questions? Something does not work? Email me @ eilin@aip.de "
   ]
  },
  {
   "cell_type": "code",
   "execution_count": null,
   "metadata": {},
   "outputs": [],
   "source": []
  }
 ],
 "metadata": {
  "kernelspec": {
   "display_name": "appaloosa_for_tess",
   "language": "python",
   "name": "appaloosa_for_tess"
  },
  "language_info": {
   "codemirror_mode": {
    "name": "ipython",
    "version": 3
   },
   "file_extension": ".py",
   "mimetype": "text/x-python",
   "name": "python",
   "nbconvert_exporter": "python",
   "pygments_lexer": "ipython3",
   "version": "3.6.8"
  }
 },
 "nbformat": 4,
 "nbformat_minor": 2
}
