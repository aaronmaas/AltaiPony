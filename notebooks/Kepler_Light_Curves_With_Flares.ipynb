{
 "cells": [
  {
   "cell_type": "code",
   "execution_count": 1,
   "metadata": {},
   "outputs": [
    {
     "name": "stderr",
     "output_type": "stream",
     "text": [
      "Loading KWallet\n",
      "Loading SecretService\n",
      "Loading Windows\n",
      "Loading chainer\n",
      "Loading macOS\n",
      "/usr/lib/python3.6/importlib/_bootstrap.py:371: ResourceWarning: unclosed <socket.socket fd=58, family=AddressFamily.AF_UNIX, type=SocketKind.SOCK_STREAM, proto=0, raddr=/run/user/1000/bus>\n",
      "  self.name = name\n",
      "/usr/lib/python3.6/importlib/_bootstrap.py:371: ResourceWarning: unclosed <socket.socket fd=59, family=AddressFamily.AF_UNIX, type=SocketKind.SOCK_STREAM, proto=0, raddr=/run/user/1000/bus>\n",
      "  self.name = name\n",
      "/usr/lib/python3.6/importlib/_bootstrap.py:371: ResourceWarning: unclosed <socket.socket fd=60, family=AddressFamily.AF_UNIX, type=SocketKind.SOCK_STREAM, proto=0, raddr=/run/user/1000/bus>\n",
      "  self.name = name\n",
      "/usr/lib/python3.6/importlib/_bootstrap.py:371: ResourceWarning: unclosed <socket.socket fd=61, family=AddressFamily.AF_UNIX, type=SocketKind.SOCK_STREAM, proto=0, raddr=/run/user/1000/bus>\n",
      "  self.name = name\n",
      "/home/ekaterina/Documents/001_Science/Flares_in_Clusters_II/flaresinclustersii/lib/python3.6/site-packages/astropy/extern/bundled/six.py:60: ResourceWarning: unclosed file <_io.TextIOWrapper name='/home/ekaterina/Documents/001_Science/Flares_in_Clusters_II/flaresinclustersii/lib/python3.6/site-packages/astropy/extern/bundled/six.py' mode='r' encoding='utf-8'>\n",
      "  class X(object):\n"
     ]
    }
   ],
   "source": [
    "from altaipony.lcio import from_TargetPixel_source\n",
    "import numpy as np\n",
    "import matplotlib.pyplot as plt"
   ]
  },
  {
   "cell_type": "markdown",
   "metadata": {},
   "source": [
    "Find and download the TargetPixelFile for your light curve:"
   ]
  },
  {
   "cell_type": "code",
   "execution_count": 2,
   "metadata": {},
   "outputs": [
    {
     "name": "stderr",
     "output_type": "stream",
     "text": [
      "Found cached file /home/ekaterina/.lightkurve-cache/mastDownload/Kepler/kplr010002792_lc_Q011111111111111111/kplr010002792-2009259160929_lpd-targ.fits.gz with expected size 2258267.\n",
      "6% (279/4354) of the cadences will be ignored due to the quality mask (quality_bitmask=1130799).\n",
      "6% (279/4354) of the cadences will be ignored due to the quality mask (quality_bitmask=1130799).\n"
     ]
    }
   ],
   "source": [
    "flc = from_TargetPixel_source(\"10002792\", quarter=2)"
   ]
  },
  {
   "cell_type": "markdown",
   "metadata": {},
   "source": [
    "Find the gaps in the light curve to inform the de-trending algorithm. \n",
    "\n",
    "The de-trending splits the light curve in continuous chunks to avoid flukes from over-fitting."
   ]
  },
  {
   "cell_type": "code",
   "execution_count": 3,
   "metadata": {},
   "outputs": [
    {
     "data": {
      "text/plain": [
       "[570, 2495, 2807, 3967, 4070]"
      ]
     },
     "execution_count": 3,
     "metadata": {},
     "output_type": "execute_result"
    }
   ],
   "source": [
    "flc = flc.find_gaps()\n",
    "splits = [j for (i,j) in flc.gaps]\n",
    "splits"
   ]
  },
  {
   "cell_type": "markdown",
   "metadata": {},
   "source": [
    "De-trend the light curve using K2SC, save the result in a .fits file. Do not forget to pass the splits. \n",
    "\n",
    "The flare finding is sensitive to the `outlier_sigma` parameter that clips the the flare candidates while modeling the non-flaring light curve. There is a small bug in K2SC: `outlier_sigma` is not passed on (see [Github issue](https://github.com/OxES/k2sc/issues/20)). You will have to manually fix this is your local version of K2SC (not the best solution, but a working one). Or you cann install K2SC from my [fork](https://github.com/ekaterinailin/k2sc) of it.\n",
    "\n",
    "If you want to check if it worked: Different `outlier_sigma` should give different numbers in the de-trending protocol that you see when you run the cell below:\n",
    "\n",
    "    Flagged X ( X.X%) outliers.)\n",
    "    "
   ]
  },
  {
   "cell_type": "code",
   "execution_count": 4,
   "metadata": {},
   "outputs": [
    {
     "name": "stdout",
     "output_type": "stream",
     "text": [
      "Using split values [570, 2495, 2807, 3967, 4070] given from the command line\n",
      "Starting initial outlier detection\n",
      "  Flagged 3 ( 0.1%) outliers.\n",
      "Starting Lomb-Scargle period search\n",
      "  Using SqrExp position kernel\n",
      "  Found periodicity p =    1.16 (fap 0.0000e+00 < 1e-50), will use a quasiperiodic kernel\n",
      "Starting global hyperparameter optimisation using DE\n",
      "  DE iteration %3i -ln(L) %4.1f 0 -4192.901413733671\n",
      "  DE iteration %3i -ln(L) %4.1f 1 -4192.901413733671\n",
      "  DE iteration %3i -ln(L) %4.1f 2 -4192.901413733671\n",
      "  DE iteration %3i -ln(L) %4.1f 3 -4192.901413733671\n",
      "  DE iteration %3i -ln(L) %4.1f 4 -4192.901413733671\n",
      "  DE iteration %3i -ln(L) %4.1f 5 -4192.901413733671\n",
      "  DE iteration %3i -ln(L) %4.1f 6 -4192.901413733671\n",
      "  DE iteration %3i -ln(L) %4.1f 7 -4192.901413733671\n",
      "  DE iteration %3i -ln(L) %4.1f 8 -4192.901413733671\n",
      "  DE iteration %3i -ln(L) %4.1f 9 -4192.901413733671\n",
      "  DE finished in %i seconds 55.06026887893677\n",
      "  DE minimum found at: %s [-4.493  0.115  1.162  0.31  -3.471 18.03  13.594 -3.461]\n",
      "  DE -ln(L) %4.1f -4192.901413733671\n",
      "Starting local hyperparameter optimisation\n",
      "  Local minimum found at: %s [-4.867  0.031  1.19   0.206 -2.546 20.838  9.455 -3.375]\n",
      "Starting final outlier detection\n",
      "  %5i too high 147\n",
      "  %5i too low 112\n",
      "  %5i not finite 0\n",
      "Computing time and position trends\n"
     ]
    },
    {
     "name": "stderr",
     "output_type": "stream",
     "text": [
      "De-trending successfully completed.\n",
      "Value for campaign is None.\n",
      "Value for campaign is None.\n"
     ]
    },
    {
     "name": "stdout",
     "output_type": "stream",
     "text": [
      "  CDPP - raw - %6.3f 6863.666116933351\n",
      "  CDPP - position component removed - %6.3f 6839.556694345599\n",
      "  CDPP - full reduction - %6.3f 244.48143328705646\n",
      "Detrending time %6.3f 84.5916690826416\n"
     ]
    }
   ],
   "source": [
    "flcd = flc.detrend(save_k2sc=True, folder='', de_niter=10, splits=splits, outlier_sigma=3)"
   ]
  },
  {
   "cell_type": "markdown",
   "metadata": {},
   "source": [
    "Now you can visually compare the results:"
   ]
  },
  {
   "cell_type": "code",
   "execution_count": 5,
   "metadata": {
    "scrolled": true
   },
   "outputs": [
    {
     "data": {
      "image/png": "[encoded data removed]",
      "text/plain": [
       "<Figure size 864x360 with 1 Axes>"
      ]
     },
     "metadata": {
      "needs_background": "light"
     },
     "output_type": "display_data"
    }
   ],
   "source": [
    "plt.figure(figsize=(12,5))\n",
    "plt.plot(flcd.time,flcd.detrended_flux / np.nanmedian(flcd.detrended_flux))\n",
    "plt.plot(flcd.time, flcd.flux / np.nanmedian(flcd.flux))\n",
    "plt.xlim(247,252);"
   ]
  },
  {
   "cell_type": "markdown",
   "metadata": {},
   "source": [
    "The above figure shows a flare that we can now try to find in the de-trended light curve:"
   ]
  },
  {
   "cell_type": "code",
   "execution_count": 6,
   "metadata": {},
   "outputs": [
    {
     "name": "stderr",
     "output_type": "stream",
     "text": [
      "Found 0 candidate(s) in the (0,570) gap.\n",
      "Found 2 candidate(s) in the (570,2495) gap.\n",
      "Found 0 candidate(s) in the (2495,2807) gap.\n",
      "Found 1 candidate(s) in the (2807,3967) gap.\n",
      "Found 0 candidate(s) in the (3967,4070) gap.\n",
      "/home/ekaterina/Documents/001_Science/Flares_in_Clusters_II/flaresinclustersii/lib/python3.6/site-packages/pandas/core/frame.py:6692: FutureWarning: Sorting because non-concatenation axis is not aligned. A future version\n",
      "of pandas will change to not sort by default.\n",
      "\n",
      "To accept the future behavior, pass 'sort=False'.\n",
      "\n",
      "To retain the current behavior and silence the warning, pass 'sort=True'.\n",
      "\n",
      "  sort=sort)\n"
     ]
    },
    {
     "data": {
      "text/html": [
       "<div>\n",
       "<style scoped>\n",
       "    .dataframe tbody tr th:only-of-type {\n",
       "        vertical-align: middle;\n",
       "    }\n",
       "\n",
       "    .dataframe tbody tr th {\n",
       "        vertical-align: top;\n",
       "    }\n",
       "\n",
       "    .dataframe thead th {\n",
       "        text-align: right;\n",
       "    }\n",
       "</style>\n",
       "<table border=\"1\" class=\"dataframe\">\n",
       "  <thead>\n",
       "    <tr style=\"text-align: right;\">\n",
       "      <th></th>\n",
       "      <th>ampl_rec</th>\n",
       "      <th>cstart</th>\n",
       "      <th>cstop</th>\n",
       "      <th>ed_rec</th>\n",
       "      <th>ed_rec_err</th>\n",
       "      <th>istart</th>\n",
       "      <th>istop</th>\n",
       "      <th>tstart</th>\n",
       "      <th>tstop</th>\n",
       "    </tr>\n",
       "  </thead>\n",
       "  <tbody>\n",
       "    <tr>\n",
       "      <th>0</th>\n",
       "      <td>0.009332</td>\n",
       "      <td>4216</td>\n",
       "      <td>4219</td>\n",
       "      <td>36.657621</td>\n",
       "      <td>0.247029</td>\n",
       "      <td>1121</td>\n",
       "      <td>1124</td>\n",
       "      <td>195.082817</td>\n",
       "      <td>195.144118</td>\n",
       "    </tr>\n",
       "    <tr>\n",
       "      <th>1</th>\n",
       "      <td>0.023509</td>\n",
       "      <td>4716</td>\n",
       "      <td>4719</td>\n",
       "      <td>68.386212</td>\n",
       "      <td>0.231110</td>\n",
       "      <td>1615</td>\n",
       "      <td>1618</td>\n",
       "      <td>205.299677</td>\n",
       "      <td>205.360978</td>\n",
       "    </tr>\n",
       "    <tr>\n",
       "      <th>2</th>\n",
       "      <td>0.050181</td>\n",
       "      <td>6883</td>\n",
       "      <td>6887</td>\n",
       "      <td>201.821672</td>\n",
       "      <td>0.264874</td>\n",
       "      <td>3684</td>\n",
       "      <td>3688</td>\n",
       "      <td>249.578843</td>\n",
       "      <td>249.660576</td>\n",
       "    </tr>\n",
       "  </tbody>\n",
       "</table>\n",
       "</div>"
      ],
      "text/plain": [
       "   ampl_rec cstart cstop      ed_rec  ed_rec_err istart istop      tstart  \\\n",
       "0  0.009332   4216  4219   36.657621    0.247029   1121  1124  195.082817   \n",
       "1  0.023509   4716  4719   68.386212    0.231110   1615  1618  205.299677   \n",
       "2  0.050181   6883  6887  201.821672    0.264874   3684  3688  249.578843   \n",
       "\n",
       "        tstop  \n",
       "0  195.144118  \n",
       "1  205.360978  \n",
       "2  249.660576  "
      ]
     },
     "execution_count": 6,
     "metadata": {},
     "output_type": "execute_result"
    }
   ],
   "source": [
    "flcd = flcd.find_flares()\n",
    "flcd.flares"
   ]
  },
  {
   "cell_type": "markdown",
   "metadata": {},
   "source": [
    "It should one of the largest flares.\n",
    "\n",
    "Questions? Something does not work? Email me @ eilin@aip.de "
   ]
  },
  {
   "cell_type": "code",
   "execution_count": null,
   "metadata": {},
   "outputs": [],
   "source": []
  }
 ],
 "metadata": {
  "kernelspec": {
   "display_name": "flaresinclustersii",
   "language": "python",
   "name": "flaresinclustersii"
  },
  "language_info": {
   "codemirror_mode": {
    "name": "ipython",
    "version": 3
   },
   "file_extension": ".py",
   "mimetype": "text/x-python",
   "name": "python",
   "nbconvert_exporter": "python",
   "pygments_lexer": "ipython3",
   "version": "3.6.7"
  }
 },
 "nbformat": 4,
 "nbformat_minor": 2
}
