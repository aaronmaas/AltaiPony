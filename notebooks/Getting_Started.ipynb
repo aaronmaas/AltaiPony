{
 "cells": [
  {
   "cell_type": "markdown",
   "metadata": {},
   "source": [
    "# Quickstart AltaiPony\n",
    "\n",
    "Let's first get the base class and the IO function we want to use:"
   ]
  },
  {
   "cell_type": "code",
   "execution_count": null,
   "metadata": {},
   "outputs": [],
   "source": [
    "from altaipony.flarelc import FlareLightCurve\n",
    "from altaipony.lcio import from_K2SC_source"
   ]
  },
  {
   "cell_type": "markdown",
   "metadata": {},
   "source": [
    "Now download a **K2SC** light curve from archive and create a ``FlareLightCurve``.\n",
    "\n",
    "(It's enough to pass the EPIC ID to ``from_K2SC_source``, but you could pass a path instead as well.)"
   ]
  },
  {
   "cell_type": "code",
   "execution_count": null,
   "metadata": {},
   "outputs": [],
   "source": [
    "EPIC = 211119999\n",
    "flc = from_K2SC_source(EPIC)"
   ]
  },
  {
   "cell_type": "markdown",
   "metadata": {},
   "source": [
    "Let's verify that we succeeded:"
   ]
  },
  {
   "cell_type": "code",
   "execution_count": null,
   "metadata": {},
   "outputs": [],
   "source": [
    "flc"
   ]
  },
  {
   "cell_type": "markdown",
   "metadata": {},
   "source": [
    "The representation tells us that we have indeed created a ``FlareLightCurve``.\n",
    "\n",
    "Now let's look at some cool tools we inherited from the awesome ``lightkurve`` package:"
   ]
  },
  {
   "cell_type": "code",
   "execution_count": null,
   "metadata": {},
   "outputs": [],
   "source": [
    "flc.plot()"
   ]
  },
  {
   "cell_type": "markdown",
   "metadata": {},
   "source": [
    "This is the raw light curve. However, the **K2SC** light curve we just fetched has de-trended flux as well:"
   ]
  },
  {
   "cell_type": "code",
   "execution_count": null,
   "metadata": {},
   "outputs": [],
   "source": [
    "import matplotlib.pyplot as plt\n",
    "%matplotlib inline\n",
    "\n",
    "plt.figure(figsize=(12,6))\n",
    "plt.plot(flc.time, flc.detrended_flux, c='k')\n",
    "plt.plot(flc.time, flc.flux, c='c')"
   ]
  },
  {
   "cell_type": "markdown",
   "metadata": {},
   "source": [
    "**K2SC** preserved flare signal fairly well, so this is what we use for flare finding.\n",
    "\n",
    "So let us find the flares in this light curve (one, at least, is pretty obvious, right?)"
   ]
  },
  {
   "cell_type": "code",
   "execution_count": null,
   "metadata": {
    "scrolled": true
   },
   "outputs": [],
   "source": [
    "flc = flc.find_flares()\n",
    "flc.flares"
   ]
  },
  {
   "cell_type": "markdown",
   "metadata": {},
   "source": [
    "AHA! Four flares! Let's see where they are:"
   ]
  },
  {
   "cell_type": "code",
   "execution_count": null,
   "metadata": {},
   "outputs": [],
   "source": [
    "plt.figure(figsize=(12,6))\n",
    "plt.plot(flc.time, flc.detrended_flux, c='k', label='detrended flux')\n",
    "plt.plot(flc.time, flc.it_med, c='c', label='median')\n",
    "for i,f in flc.flares.iterrows():\n",
    "    plt.plot(flc.time[f.istart:f.istop+1], flc.detrended_flux[f.istart:f.istop+1], c='r')\n",
    "plt.ylim(39500,43000)\n",
    "plt.legend()"
   ]
  },
  {
   "cell_type": "markdown",
   "metadata": {},
   "source": [
    "No surprise we found the big one. The other three are not that obvious.\n",
    "\n",
    "Now, what if doubt that these three are real? \n",
    "\n",
    "What if it's just outliers and similar sized flares would be lost in the noise? \n",
    "\n",
    "Or rest undiscovered due to low time resolution?\n",
    "\n",
    "Let us test that (may take a moment):"
   ]
  },
  {
   "cell_type": "code",
   "execution_count": null,
   "metadata": {
    "scrolled": true
   },
   "outputs": [],
   "source": [
    "flc = flc.characterize_flares(iterations=100)\n",
    "flc.flares"
   ]
  },
  {
   "cell_type": "markdown",
   "metadata": {},
   "source": [
    "The large event is relatively likely a flare as we would expect it (1st output line). Flares with similar equivalent durations (ED)² as the bigger flare are recovered in ~80% of the cases. \n",
    "\n",
    "The small one is lost in the noise and is most likely an outlier that happens to fit the detection criteria¹ (2nd output line). \n",
    "\n",
    "We have run an injection recovery procedure, that introduces synthetic flares similar to the one we recovered and tries to find them again. \n",
    "\n",
    "The ``flares`` attribute stores the relevant information about each flare as soon as it is found. When we run the ``characterize_flares`` method on our ``FlareLightCurve``, we add the ``ed_rec_corr`` and ``rec_prob``  attributes. ``ed_rec_corr`` gives the ratio between the injected flare's ED and the recovered one in a bin around the observed value (here: 1601 s). ``rec_prob`` is the number of recovered flares relative to all injected ones, or recovery probability - again in a ED bin around the observed flare.\n",
    "\n",
    "¹detection criteria are listed in the ``find_flares_in_cont_obs_period`` function in the ``altai`` module\n",
    "\n",
    "²equivalent duration is a proxy for flare energy that is relative to total stellar flux. It is measured in seconds: It is how long the star needs to quietly shine until it has released just as much flux as the flare did."
   ]
  },
  {
   "cell_type": "markdown",
   "metadata": {},
   "source": [
    "We can look at what happens, when we inject and recover synthetic flares within **AltaiPony**:"
   ]
  },
  {
   "cell_type": "code",
   "execution_count": null,
   "metadata": {},
   "outputs": [],
   "source": [
    "data, fake_lc = flc.sample_flare_recovery(iterations=10)"
   ]
  },
  {
   "cell_type": "markdown",
   "metadata": {},
   "source": [
    "``fake_lc`` stores the flux with injected flare event after the last iteration: "
   ]
  },
  {
   "cell_type": "code",
   "execution_count": null,
   "metadata": {
    "scrolled": true
   },
   "outputs": [],
   "source": [
    "plt.figure(figsize=(12,6))\n",
    "plt.plot(fake_lc.time, fake_lc.detrended_flux, c='k')\n",
    "plt.plot(fake_lc.time, fake_lc.it_med, c='c')\n",
    "for i,f in fake_lc.flares.iterrows():\n",
    "    plt.plot(fake_lc.time[f.istart-10:f.istop+50], fake_lc.detrended_flux[f.istart-10:f.istop+50], c='r')"
   ]
  },
  {
   "cell_type": "markdown",
   "metadata": {},
   "source": [
    "``data`` stores all injected flares, if they were recovered, and if yes, also the recovered ED, just as with real flares."
   ]
  },
  {
   "cell_type": "code",
   "execution_count": null,
   "metadata": {},
   "outputs": [],
   "source": [
    "data.head()"
   ]
  },
  {
   "cell_type": "markdown",
   "metadata": {},
   "source": [
    "Flares that overlap are summed up and treated as a single complex flare and the recovered ED is compared to the sum of injected EDs. "
   ]
  },
  {
   "cell_type": "code",
   "execution_count": null,
   "metadata": {},
   "outputs": [],
   "source": []
  }
 ],
 "metadata": {
  "celltoolbar": "Edit Metadata",
  "kernelspec": {
   "display_name": "Python 3",
   "language": "python",
   "name": "python3"
  },
  "language_info": {
   "codemirror_mode": {
    "name": "ipython",
    "version": 3
   },
   "file_extension": ".py",
   "mimetype": "text/x-python",
   "name": "python",
   "nbconvert_exporter": "python",
   "pygments_lexer": "ipython3",
   "version": "3.5.2"
  }
 },
 "nbformat": 4,
 "nbformat_minor": 2
}
